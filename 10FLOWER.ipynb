{
  "nbformat": 4,
  "nbformat_minor": 0,
  "metadata": {
    "colab": {
      "provenance": [],
      "gpuType": "T4",
      "include_colab_link": true
    },
    "kernelspec": {
      "name": "python3",
      "display_name": "Python 3"
    },
    "language_info": {
      "name": "python"
    },
    "accelerator": "GPU",
    "gpuClass": "standard"
  },
  "cells": [
    {
      "cell_type": "markdown",
      "metadata": {
        "id": "view-in-github",
        "colab_type": "text"
      },
      "source": [
        "<a href=\"https://colab.research.google.com/github/PhaTanVu/AI_CUOIKI_NHANDANG10LOAIHOA/blob/main/10FLOWER.ipynb\" target=\"_parent\"><img src=\"https://colab.research.google.com/assets/colab-badge.svg\" alt=\"Open In Colab\"/></a>"
      ]
    },
    {
      "cell_type": "code",
      "execution_count": null,
      "metadata": {
        "id": "dECoW6YblV-z"
      },
      "outputs": [],
      "source": [
        "from os import listdir\n",
        "from numpy import asarray, save\n",
        "from keras.utils import load_img\n",
        "from keras.utils import img_to_array\n",
        "import numpy as np\n",
        "from sklearn.model_selection import train_test_split\n",
        "from keras.datasets import cifar100\n",
        "import matplotlib.pyplot as plt\n",
        "from keras.layers import Dense, Dropout, Flatten, Conv2D, MaxPooling2D, Normalization\n",
        "from keras.models import Sequential, Model\n",
        "from keras import Input\n",
        "from keras.layers import LeakyReLU\n",
        "from keras.optimizers import Adam"
      ]
    },
    {
      "cell_type": "code",
      "source": [
        "from google.colab import drive\n",
        "drive.mount('/content/drive')"
      ],
      "metadata": {
        "colab": {
          "base_uri": "https://localhost:8080/"
        },
        "id": "U4XLAeBllbTr",
        "outputId": "1d315699-1017-44b5-e4d9-deccc9c118da"
      },
      "execution_count": null,
      "outputs": [
        {
          "output_type": "stream",
          "name": "stdout",
          "text": [
            "Drive already mounted at /content/drive; to attempt to forcibly remount, call drive.mount(\"/content/drive\", force_remount=True).\n"
          ]
        }
      ]
    },
    {
      "cell_type": "code",
      "source": [
        "from numpy import asarray\n",
        "\n",
        "folder = '/content/drive/MyDrive/Colab Notebooks/FLOWER/FLOWER_DATA/'\n",
        "photos, labels = list(), list()\n",
        "for file in listdir(folder):\n",
        "  output = 0.0\n",
        "  if file.startswith('Hong'):\n",
        "    output = 0\n",
        "  if file.startswith('MaoDiaHoang'):\n",
        "    output = 1\n",
        "  if file.startswith('Sen'):\n",
        "    output = 2\n",
        "  if file.startswith('Su'):\n",
        "    output = 3\n",
        "  if file.startswith('VanTho'):\n",
        "    output = 4\n",
        "  if file.startswith('HongMon'):\n",
        "    output = 5\n",
        "  if file.startswith('ThienDieu'):\n",
        "    output = 6\n",
        "  if file.startswith('DongTien'):\n",
        "    output = 7\n",
        "  if file.startswith('HuongDuong'):\n",
        "    output = 8\n",
        "  if file.startswith('DaUyenThao'):\n",
        "    output = 9\n",
        "  photo = load_img(folder + file, target_size=(128, 128))\n",
        "  photo = img_to_array(photo)\n",
        "  photos.append(photo)\n",
        "  labels.append(output)\n",
        "\n",
        "photos = asarray(photos)\n",
        "labels = asarray(labels)\n",
        "print(photos.shape, labels.shape)\n",
        "save('/content/drive/MyDrive/Colab Notebooks/FLOWER/FLOWER_DATA/HOA_PHOTOS', photos)\n",
        "save('/content/drive/MyDrive/Colab Notebooks/FLOWER/FLOWER_DATA/HOA_LABELS', labels)"
      ],
      "metadata": {
        "colab": {
          "base_uri": "https://localhost:8080/"
        },
        "id": "sNT-XeT4ldXZ",
        "outputId": "1c2aaf1c-4539-4f15-dc08-8b8fee9fde23"
      },
      "execution_count": null,
      "outputs": [
        {
          "output_type": "stream",
          "name": "stdout",
          "text": [
            "(1170, 128, 128, 3) (1170,)\n"
          ]
        }
      ]
    },
    {
      "cell_type": "code",
      "source": [
        "# Load images and labels\n",
        "from keras.utils import to_categorical #one hot encoding\n",
        "photos = np.load('/content/drive/MyDrive/Colab Notebooks/FLOWER/FLOWER_DATA/HOA_PHOTOS.npy')\n",
        "labels = np.load('/content/drive/MyDrive/Colab Notebooks/FLOWER/FLOWER_DATA/HOA_LABELS.npy')\n",
        "labels_one_hot = to_categorical(labels)\n",
        "x_train, x_test, y_train, y_test = train_test_split(photos, labels_one_hot, test_size = 0.2, random_state = 128)"
      ],
      "metadata": {
        "id": "lp7XL7SblsKl"
      },
      "execution_count": null,
      "outputs": []
    },
    {
      "cell_type": "code",
      "source": [
        "model = Sequential()\n",
        "#Convolutional\n",
        "model.add(Conv2D(8, kernel_size= (3,3), activation= 'relu', input_shape = (128,128,3), padding= 'same'))\n",
        "model.add(MaxPooling2D((2,2), padding= 'same'))\n",
        "\n",
        "model.add(Conv2D(16, kernel_size= (3,3), activation= 'relu', padding= 'same'))\n",
        "model.add(MaxPooling2D((2,2), padding= 'same'))\n",
        "\n",
        "model.add(Conv2D(32, kernel_size= (3,3), activation= 'relu', padding= 'same'))\n",
        "model.add(Conv2D(32, kernel_size= (3,3), activation= 'relu', padding= 'same'))\n",
        "model.add(MaxPooling2D((2,2), padding= 'same'))\n",
        "\n",
        "model.add(Conv2D(64, kernel_size= (3,3), activation= 'relu', padding= 'same'))\n",
        "model.add(Conv2D(64, kernel_size= (3,3), activation= 'relu', padding= 'same'))\n",
        "model.add(MaxPooling2D((2,2), padding= 'same'))\n",
        "\n",
        "# Fully connected layers\n",
        "model.add(Flatten())\n",
        "model.add(Dense(512, activation= 'relu'))\n",
        "model.add(Dropout(0.5))\n",
        "model.add(Dense(512, activation= 'relu'))\n",
        "model.add(Dropout(0.5))\n",
        "model.add(Dense(10, activation= 'softmax'))\n",
        "model.compile(loss='categorical_crossentropy', optimizer = Adam(), metrics=['accuracy'])\n",
        "model.summary()"
      ],
      "metadata": {
        "colab": {
          "base_uri": "https://localhost:8080/"
        },
        "id": "N0JYyJhIlt-9",
        "outputId": "9a0ed372-7e3f-4d50-bcbc-de57db133e5e"
      },
      "execution_count": null,
      "outputs": [
        {
          "output_type": "stream",
          "name": "stdout",
          "text": [
            "Model: \"sequential_1\"\n",
            "_________________________________________________________________\n",
            " Layer (type)                Output Shape              Param #   \n",
            "=================================================================\n",
            " conv2d_6 (Conv2D)           (None, 128, 128, 8)       224       \n",
            "                                                                 \n",
            " max_pooling2d_4 (MaxPooling  (None, 64, 64, 8)        0         \n",
            " 2D)                                                             \n",
            "                                                                 \n",
            " conv2d_7 (Conv2D)           (None, 64, 64, 16)        1168      \n",
            "                                                                 \n",
            " max_pooling2d_5 (MaxPooling  (None, 32, 32, 16)       0         \n",
            " 2D)                                                             \n",
            "                                                                 \n",
            " conv2d_8 (Conv2D)           (None, 32, 32, 32)        4640      \n",
            "                                                                 \n",
            " conv2d_9 (Conv2D)           (None, 32, 32, 32)        9248      \n",
            "                                                                 \n",
            " max_pooling2d_6 (MaxPooling  (None, 16, 16, 32)       0         \n",
            " 2D)                                                             \n",
            "                                                                 \n",
            " conv2d_10 (Conv2D)          (None, 16, 16, 64)        18496     \n",
            "                                                                 \n",
            " conv2d_11 (Conv2D)          (None, 16, 16, 64)        36928     \n",
            "                                                                 \n",
            " max_pooling2d_7 (MaxPooling  (None, 8, 8, 64)         0         \n",
            " 2D)                                                             \n",
            "                                                                 \n",
            " flatten_1 (Flatten)         (None, 4096)              0         \n",
            "                                                                 \n",
            " dense_3 (Dense)             (None, 512)               2097664   \n",
            "                                                                 \n",
            " dropout_2 (Dropout)         (None, 512)               0         \n",
            "                                                                 \n",
            " dense_4 (Dense)             (None, 512)               262656    \n",
            "                                                                 \n",
            " dropout_3 (Dropout)         (None, 512)               0         \n",
            "                                                                 \n",
            " dense_5 (Dense)             (None, 10)                5130      \n",
            "                                                                 \n",
            "=================================================================\n",
            "Total params: 2,436,154\n",
            "Trainable params: 2,436,154\n",
            "Non-trainable params: 0\n",
            "_________________________________________________________________\n"
          ]
        }
      ]
    },
    {
      "cell_type": "code",
      "source": [
        "from keras.preprocessing.image import ImageDataGenerator\n",
        "aug = ImageDataGenerator(rotation_range=20, zoom_range=0.2,\n",
        "    rescale=1./255,\n",
        "\twidth_shift_range=0.2,\n",
        "    height_shift_range=0.2,\n",
        "\thorizontal_flip=True,\n",
        "    brightness_range=[0.2,1.5], fill_mode=\"nearest\")"
      ],
      "metadata": {
        "id": "1zSCX0v-lwHa"
      },
      "execution_count": null,
      "outputs": []
    },
    {
      "cell_type": "code",
      "source": [
        "x_train.shape"
      ],
      "metadata": {
        "colab": {
          "base_uri": "https://localhost:8080/"
        },
        "id": "AkhvQL9vlySs",
        "outputId": "4e0eb3c2-1aa3-4421-fbf9-58a41b9cdc43"
      },
      "execution_count": null,
      "outputs": [
        {
          "output_type": "execute_result",
          "data": {
            "text/plain": [
              "(936, 128, 128, 3)"
            ]
          },
          "metadata": {},
          "execution_count": 22
        }
      ]
    },
    {
      "cell_type": "code",
      "source": [
        "y_train.shape"
      ],
      "metadata": {
        "colab": {
          "base_uri": "https://localhost:8080/"
        },
        "id": "f8YA8GNcl0EJ",
        "outputId": "7cbe5f61-be77-476f-e703-1ec7342a53d9"
      },
      "execution_count": null,
      "outputs": [
        {
          "output_type": "execute_result",
          "data": {
            "text/plain": [
              "(936, 10)"
            ]
          },
          "metadata": {},
          "execution_count": 23
        }
      ]
    },
    {
      "cell_type": "code",
      "source": [
        "train = model.fit_generator(aug.flow(x_train, y_train, batch_size=64),\n",
        "                               epochs=200,\n",
        "                               validation_data=aug.flow(x_test,y_test,\n",
        "                               batch_size=len(x_test)))"
      ],
      "metadata": {
        "colab": {
          "base_uri": "https://localhost:8080/"
        },
        "id": "_yw-dLT9l1qR",
        "outputId": "c8e20ed4-ac3a-4c4e-b523-b1f32242e078"
      },
      "execution_count": null,
      "outputs": [
        {
          "output_type": "stream",
          "name": "stderr",
          "text": [
            "<ipython-input-24-0351de05a4f3>:1: UserWarning: `Model.fit_generator` is deprecated and will be removed in a future version. Please use `Model.fit`, which supports generators.\n",
            "  train = model.fit_generator(aug.flow(x_train, y_train, batch_size=64),\n"
          ]
        },
        {
          "output_type": "stream",
          "name": "stdout",
          "text": [
            "Epoch 1/200\n",
            "15/15 [==============================] - 24s 2s/step - loss: 2.2687 - accuracy: 0.1410 - val_loss: 2.2577 - val_accuracy: 0.1838\n",
            "Epoch 2/200\n",
            "15/15 [==============================] - 21s 1s/step - loss: 2.1877 - accuracy: 0.1752 - val_loss: 2.0750 - val_accuracy: 0.1923\n",
            "Epoch 3/200\n",
            "15/15 [==============================] - 23s 2s/step - loss: 2.0314 - accuracy: 0.2329 - val_loss: 1.9576 - val_accuracy: 0.2308\n",
            "Epoch 4/200\n",
            "15/15 [==============================] - 20s 1s/step - loss: 1.9219 - accuracy: 0.2489 - val_loss: 1.8185 - val_accuracy: 0.2692\n",
            "Epoch 5/200\n",
            "15/15 [==============================] - 23s 2s/step - loss: 1.8431 - accuracy: 0.2853 - val_loss: 1.6695 - val_accuracy: 0.3547\n",
            "Epoch 6/200\n",
            "15/15 [==============================] - 20s 1s/step - loss: 1.7496 - accuracy: 0.3259 - val_loss: 1.5618 - val_accuracy: 0.4615\n",
            "Epoch 7/200\n",
            "15/15 [==============================] - 21s 1s/step - loss: 1.6263 - accuracy: 0.3697 - val_loss: 1.5125 - val_accuracy: 0.4274\n",
            "Epoch 8/200\n",
            "15/15 [==============================] - 21s 1s/step - loss: 1.5500 - accuracy: 0.3868 - val_loss: 1.4068 - val_accuracy: 0.4573\n",
            "Epoch 9/200\n",
            "15/15 [==============================] - 21s 1s/step - loss: 1.5038 - accuracy: 0.4199 - val_loss: 1.4294 - val_accuracy: 0.4530\n",
            "Epoch 10/200\n",
            "15/15 [==============================] - 20s 1s/step - loss: 1.3931 - accuracy: 0.4754 - val_loss: 1.3139 - val_accuracy: 0.4957\n",
            "Epoch 11/200\n",
            "15/15 [==============================] - 20s 1s/step - loss: 1.3822 - accuracy: 0.4829 - val_loss: 1.3484 - val_accuracy: 0.4658\n",
            "Epoch 12/200\n",
            "15/15 [==============================] - 22s 1s/step - loss: 1.3902 - accuracy: 0.4573 - val_loss: 1.3416 - val_accuracy: 0.4829\n",
            "Epoch 13/200\n",
            "15/15 [==============================] - 20s 1s/step - loss: 1.3467 - accuracy: 0.5032 - val_loss: 1.3701 - val_accuracy: 0.4915\n",
            "Epoch 14/200\n",
            "15/15 [==============================] - 22s 1s/step - loss: 1.3117 - accuracy: 0.5160 - val_loss: 1.2114 - val_accuracy: 0.5342\n",
            "Epoch 15/200\n",
            "15/15 [==============================] - 20s 1s/step - loss: 1.2291 - accuracy: 0.5288 - val_loss: 1.2226 - val_accuracy: 0.5513\n",
            "Epoch 16/200\n",
            "15/15 [==============================] - 23s 2s/step - loss: 1.2358 - accuracy: 0.5171 - val_loss: 1.2775 - val_accuracy: 0.5470\n",
            "Epoch 17/200\n",
            "15/15 [==============================] - 20s 1s/step - loss: 1.1889 - accuracy: 0.5556 - val_loss: 1.1840 - val_accuracy: 0.5726\n",
            "Epoch 18/200\n",
            "15/15 [==============================] - 23s 2s/step - loss: 1.1865 - accuracy: 0.5513 - val_loss: 1.1614 - val_accuracy: 0.5769\n",
            "Epoch 19/200\n",
            "15/15 [==============================] - 23s 2s/step - loss: 1.1141 - accuracy: 0.5726 - val_loss: 1.0958 - val_accuracy: 0.5983\n",
            "Epoch 20/200\n",
            "15/15 [==============================] - 23s 2s/step - loss: 1.1006 - accuracy: 0.5940 - val_loss: 1.1094 - val_accuracy: 0.5684\n",
            "Epoch 21/200\n",
            "15/15 [==============================] - 23s 2s/step - loss: 1.1000 - accuracy: 0.5983 - val_loss: 1.0330 - val_accuracy: 0.6026\n",
            "Epoch 22/200\n",
            "15/15 [==============================] - 23s 2s/step - loss: 0.9909 - accuracy: 0.6154 - val_loss: 1.0460 - val_accuracy: 0.5855\n",
            "Epoch 23/200\n",
            "15/15 [==============================] - 20s 1s/step - loss: 0.9835 - accuracy: 0.6229 - val_loss: 0.9753 - val_accuracy: 0.6368\n",
            "Epoch 24/200\n",
            "15/15 [==============================] - 20s 1s/step - loss: 0.9758 - accuracy: 0.6400 - val_loss: 1.0256 - val_accuracy: 0.6026\n",
            "Epoch 25/200\n",
            "15/15 [==============================] - 22s 1s/step - loss: 0.9498 - accuracy: 0.6485 - val_loss: 0.9388 - val_accuracy: 0.6282\n",
            "Epoch 26/200\n",
            "15/15 [==============================] - 20s 1s/step - loss: 0.9728 - accuracy: 0.6314 - val_loss: 0.9252 - val_accuracy: 0.6709\n",
            "Epoch 27/200\n",
            "15/15 [==============================] - 22s 1s/step - loss: 0.8669 - accuracy: 0.6677 - val_loss: 0.8780 - val_accuracy: 0.7179\n",
            "Epoch 28/200\n",
            "15/15 [==============================] - 20s 1s/step - loss: 0.8870 - accuracy: 0.6624 - val_loss: 0.9200 - val_accuracy: 0.6538\n",
            "Epoch 29/200\n",
            "15/15 [==============================] - 23s 2s/step - loss: 0.8938 - accuracy: 0.6709 - val_loss: 0.9521 - val_accuracy: 0.6581\n",
            "Epoch 30/200\n",
            "15/15 [==============================] - 20s 1s/step - loss: 0.8492 - accuracy: 0.6848 - val_loss: 0.7924 - val_accuracy: 0.6838\n",
            "Epoch 31/200\n",
            "15/15 [==============================] - 21s 1s/step - loss: 0.8165 - accuracy: 0.6923 - val_loss: 0.9182 - val_accuracy: 0.6538\n",
            "Epoch 32/200\n",
            "15/15 [==============================] - 21s 1s/step - loss: 0.8195 - accuracy: 0.7030 - val_loss: 0.9725 - val_accuracy: 0.6581\n",
            "Epoch 33/200\n",
            "15/15 [==============================] - 23s 2s/step - loss: 0.7908 - accuracy: 0.7158 - val_loss: 0.8111 - val_accuracy: 0.7051\n",
            "Epoch 34/200\n",
            "15/15 [==============================] - 21s 1s/step - loss: 0.8254 - accuracy: 0.6880 - val_loss: 0.7743 - val_accuracy: 0.7051\n",
            "Epoch 35/200\n",
            "15/15 [==============================] - 21s 1s/step - loss: 0.7500 - accuracy: 0.7083 - val_loss: 0.8274 - val_accuracy: 0.6709\n",
            "Epoch 36/200\n",
            "15/15 [==============================] - 21s 1s/step - loss: 0.7675 - accuracy: 0.7169 - val_loss: 0.8791 - val_accuracy: 0.6752\n",
            "Epoch 37/200\n",
            "15/15 [==============================] - 21s 1s/step - loss: 0.7675 - accuracy: 0.7169 - val_loss: 0.7294 - val_accuracy: 0.7436\n",
            "Epoch 38/200\n",
            "15/15 [==============================] - 22s 1s/step - loss: 0.7119 - accuracy: 0.7500 - val_loss: 0.7450 - val_accuracy: 0.7009\n",
            "Epoch 39/200\n",
            "15/15 [==============================] - 20s 1s/step - loss: 0.6984 - accuracy: 0.7393 - val_loss: 0.6627 - val_accuracy: 0.7393\n",
            "Epoch 40/200\n",
            "15/15 [==============================] - 22s 1s/step - loss: 0.6929 - accuracy: 0.7521 - val_loss: 0.7433 - val_accuracy: 0.7308\n",
            "Epoch 41/200\n",
            "15/15 [==============================] - 24s 2s/step - loss: 0.7384 - accuracy: 0.7233 - val_loss: 0.7413 - val_accuracy: 0.7479\n",
            "Epoch 42/200\n",
            "15/15 [==============================] - 24s 2s/step - loss: 0.6564 - accuracy: 0.7703 - val_loss: 0.7070 - val_accuracy: 0.7179\n",
            "Epoch 43/200\n",
            "15/15 [==============================] - 20s 1s/step - loss: 0.6365 - accuracy: 0.7682 - val_loss: 0.7718 - val_accuracy: 0.6923\n",
            "Epoch 44/200\n",
            "15/15 [==============================] - 24s 2s/step - loss: 0.6176 - accuracy: 0.7692 - val_loss: 0.7052 - val_accuracy: 0.7393\n",
            "Epoch 45/200\n",
            "15/15 [==============================] - 22s 1s/step - loss: 0.5678 - accuracy: 0.7874 - val_loss: 0.8541 - val_accuracy: 0.7350\n",
            "Epoch 46/200\n",
            "15/15 [==============================] - 21s 1s/step - loss: 0.6163 - accuracy: 0.7821 - val_loss: 0.8411 - val_accuracy: 0.7009\n",
            "Epoch 47/200\n",
            "15/15 [==============================] - 23s 2s/step - loss: 0.6958 - accuracy: 0.7447 - val_loss: 0.7311 - val_accuracy: 0.7436\n",
            "Epoch 48/200\n",
            "15/15 [==============================] - 21s 1s/step - loss: 0.6266 - accuracy: 0.7746 - val_loss: 0.6660 - val_accuracy: 0.7393\n",
            "Epoch 49/200\n",
            "15/15 [==============================] - 23s 2s/step - loss: 0.6245 - accuracy: 0.7703 - val_loss: 0.6666 - val_accuracy: 0.7350\n",
            "Epoch 50/200\n",
            "15/15 [==============================] - 23s 2s/step - loss: 0.5817 - accuracy: 0.7853 - val_loss: 0.6380 - val_accuracy: 0.7692\n",
            "Epoch 51/200\n",
            "15/15 [==============================] - 20s 1s/step - loss: 0.6060 - accuracy: 0.7991 - val_loss: 0.7569 - val_accuracy: 0.7350\n",
            "Epoch 52/200\n",
            "15/15 [==============================] - 23s 2s/step - loss: 0.5457 - accuracy: 0.7959 - val_loss: 0.4919 - val_accuracy: 0.8205\n",
            "Epoch 53/200\n",
            "15/15 [==============================] - 20s 1s/step - loss: 0.4532 - accuracy: 0.8365 - val_loss: 0.4744 - val_accuracy: 0.8291\n",
            "Epoch 54/200\n",
            "15/15 [==============================] - 20s 1s/step - loss: 0.4645 - accuracy: 0.8355 - val_loss: 0.6223 - val_accuracy: 0.7692\n",
            "Epoch 55/200\n",
            "15/15 [==============================] - 22s 1s/step - loss: 0.5220 - accuracy: 0.7949 - val_loss: 0.5148 - val_accuracy: 0.8376\n",
            "Epoch 56/200\n",
            "15/15 [==============================] - 22s 1s/step - loss: 0.4777 - accuracy: 0.8301 - val_loss: 0.4856 - val_accuracy: 0.8162\n",
            "Epoch 57/200\n",
            "15/15 [==============================] - 20s 1s/step - loss: 0.5223 - accuracy: 0.8205 - val_loss: 0.6855 - val_accuracy: 0.7564\n",
            "Epoch 58/200\n",
            "15/15 [==============================] - 24s 2s/step - loss: 0.5343 - accuracy: 0.8162 - val_loss: 0.5302 - val_accuracy: 0.7949\n",
            "Epoch 59/200\n",
            "15/15 [==============================] - 23s 2s/step - loss: 0.4566 - accuracy: 0.8408 - val_loss: 0.5458 - val_accuracy: 0.7949\n",
            "Epoch 60/200\n",
            "15/15 [==============================] - 20s 1s/step - loss: 0.4717 - accuracy: 0.8365 - val_loss: 0.5493 - val_accuracy: 0.8077\n",
            "Epoch 61/200\n",
            "15/15 [==============================] - 23s 2s/step - loss: 0.4494 - accuracy: 0.8419 - val_loss: 0.6401 - val_accuracy: 0.7949\n",
            "Epoch 62/200\n",
            "15/15 [==============================] - 20s 1s/step - loss: 0.4495 - accuracy: 0.8419 - val_loss: 0.6742 - val_accuracy: 0.7692\n",
            "Epoch 63/200\n",
            "15/15 [==============================] - 21s 1s/step - loss: 0.4850 - accuracy: 0.8173 - val_loss: 0.6755 - val_accuracy: 0.7607\n",
            "Epoch 64/200\n",
            "15/15 [==============================] - 23s 2s/step - loss: 0.4952 - accuracy: 0.8365 - val_loss: 0.5319 - val_accuracy: 0.8120\n",
            "Epoch 65/200\n",
            "15/15 [==============================] - 20s 1s/step - loss: 0.4561 - accuracy: 0.8333 - val_loss: 0.5209 - val_accuracy: 0.8077\n",
            "Epoch 66/200\n",
            "15/15 [==============================] - 23s 2s/step - loss: 0.3995 - accuracy: 0.8643 - val_loss: 0.4939 - val_accuracy: 0.8462\n",
            "Epoch 67/200\n",
            "15/15 [==============================] - 20s 1s/step - loss: 0.4069 - accuracy: 0.8600 - val_loss: 0.4361 - val_accuracy: 0.8419\n",
            "Epoch 68/200\n",
            "15/15 [==============================] - 23s 2s/step - loss: 0.3487 - accuracy: 0.8835 - val_loss: 0.4169 - val_accuracy: 0.8376\n",
            "Epoch 69/200\n",
            "15/15 [==============================] - 20s 1s/step - loss: 0.3736 - accuracy: 0.8729 - val_loss: 0.4793 - val_accuracy: 0.8462\n",
            "Epoch 70/200\n",
            "15/15 [==============================] - 21s 1s/step - loss: 0.4205 - accuracy: 0.8579 - val_loss: 0.6144 - val_accuracy: 0.7906\n",
            "Epoch 71/200\n",
            "15/15 [==============================] - 21s 1s/step - loss: 0.4478 - accuracy: 0.8568 - val_loss: 0.5290 - val_accuracy: 0.8120\n",
            "Epoch 72/200\n",
            "15/15 [==============================] - 20s 1s/step - loss: 0.4391 - accuracy: 0.8323 - val_loss: 0.6303 - val_accuracy: 0.8077\n",
            "Epoch 73/200\n",
            "15/15 [==============================] - 22s 1s/step - loss: 0.4538 - accuracy: 0.8344 - val_loss: 0.6113 - val_accuracy: 0.7949\n",
            "Epoch 74/200\n",
            "15/15 [==============================] - 24s 2s/step - loss: 0.4055 - accuracy: 0.8590 - val_loss: 0.4828 - val_accuracy: 0.8291\n",
            "Epoch 75/200\n",
            "15/15 [==============================] - 22s 1s/step - loss: 0.3675 - accuracy: 0.8739 - val_loss: 0.4286 - val_accuracy: 0.8632\n",
            "Epoch 76/200\n",
            "15/15 [==============================] - 20s 1s/step - loss: 0.3768 - accuracy: 0.8686 - val_loss: 0.4955 - val_accuracy: 0.8590\n",
            "Epoch 77/200\n",
            "15/15 [==============================] - 20s 1s/step - loss: 0.3443 - accuracy: 0.8707 - val_loss: 0.5779 - val_accuracy: 0.8034\n",
            "Epoch 78/200\n",
            "15/15 [==============================] - 22s 1s/step - loss: 0.3528 - accuracy: 0.8814 - val_loss: 0.4373 - val_accuracy: 0.8504\n",
            "Epoch 79/200\n",
            "15/15 [==============================] - 20s 1s/step - loss: 0.4096 - accuracy: 0.8611 - val_loss: 0.4611 - val_accuracy: 0.8419\n",
            "Epoch 80/200\n",
            "15/15 [==============================] - 24s 2s/step - loss: 0.3492 - accuracy: 0.8825 - val_loss: 0.4929 - val_accuracy: 0.8333\n",
            "Epoch 81/200\n",
            "15/15 [==============================] - 20s 1s/step - loss: 0.3274 - accuracy: 0.8835 - val_loss: 0.4762 - val_accuracy: 0.8462\n",
            "Epoch 82/200\n",
            "15/15 [==============================] - 22s 1s/step - loss: 0.3168 - accuracy: 0.8900 - val_loss: 0.5606 - val_accuracy: 0.8162\n",
            "Epoch 83/200\n",
            "15/15 [==============================] - 20s 1s/step - loss: 0.2967 - accuracy: 0.8921 - val_loss: 0.5260 - val_accuracy: 0.8120\n",
            "Epoch 84/200\n",
            "15/15 [==============================] - 23s 2s/step - loss: 0.3420 - accuracy: 0.8675 - val_loss: 0.6044 - val_accuracy: 0.8162\n",
            "Epoch 85/200\n",
            "15/15 [==============================] - 21s 1s/step - loss: 0.3207 - accuracy: 0.8878 - val_loss: 0.6007 - val_accuracy: 0.8120\n",
            "Epoch 86/200\n",
            "15/15 [==============================] - 21s 1s/step - loss: 0.2956 - accuracy: 0.8985 - val_loss: 0.4387 - val_accuracy: 0.8590\n",
            "Epoch 87/200\n",
            "15/15 [==============================] - 23s 2s/step - loss: 0.2977 - accuracy: 0.8942 - val_loss: 0.4490 - val_accuracy: 0.8376\n",
            "Epoch 88/200\n",
            "15/15 [==============================] - 21s 1s/step - loss: 0.3142 - accuracy: 0.8932 - val_loss: 0.4424 - val_accuracy: 0.8590\n",
            "Epoch 89/200\n",
            "15/15 [==============================] - 21s 1s/step - loss: 0.2962 - accuracy: 0.8964 - val_loss: 0.3896 - val_accuracy: 0.8590\n",
            "Epoch 90/200\n",
            "15/15 [==============================] - 21s 1s/step - loss: 0.2938 - accuracy: 0.9049 - val_loss: 0.5402 - val_accuracy: 0.8333\n",
            "Epoch 91/200\n",
            "15/15 [==============================] - 20s 1s/step - loss: 0.3147 - accuracy: 0.8910 - val_loss: 0.5565 - val_accuracy: 0.8291\n",
            "Epoch 92/200\n",
            "15/15 [==============================] - 22s 1s/step - loss: 0.3119 - accuracy: 0.9006 - val_loss: 0.5936 - val_accuracy: 0.8333\n",
            "Epoch 93/200\n",
            "15/15 [==============================] - 20s 1s/step - loss: 0.2660 - accuracy: 0.9060 - val_loss: 0.3651 - val_accuracy: 0.8547\n",
            "Epoch 94/200\n",
            "15/15 [==============================] - 22s 1s/step - loss: 0.2814 - accuracy: 0.9006 - val_loss: 0.4529 - val_accuracy: 0.8376\n",
            "Epoch 95/200\n",
            "15/15 [==============================] - 20s 1s/step - loss: 0.2606 - accuracy: 0.9145 - val_loss: 0.5539 - val_accuracy: 0.8077\n",
            "Epoch 96/200\n",
            "15/15 [==============================] - 22s 1s/step - loss: 0.3002 - accuracy: 0.8974 - val_loss: 0.4208 - val_accuracy: 0.8419\n",
            "Epoch 97/200\n",
            "15/15 [==============================] - 23s 2s/step - loss: 0.2787 - accuracy: 0.9038 - val_loss: 0.5562 - val_accuracy: 0.8034\n",
            "Epoch 98/200\n",
            "15/15 [==============================] - 20s 1s/step - loss: 0.2625 - accuracy: 0.9017 - val_loss: 0.5150 - val_accuracy: 0.8376\n",
            "Epoch 99/200\n",
            "15/15 [==============================] - 23s 2s/step - loss: 0.2728 - accuracy: 0.9049 - val_loss: 0.5422 - val_accuracy: 0.8419\n",
            "Epoch 100/200\n",
            "15/15 [==============================] - 23s 2s/step - loss: 0.2689 - accuracy: 0.9060 - val_loss: 0.4136 - val_accuracy: 0.8974\n",
            "Epoch 101/200\n",
            "15/15 [==============================] - 21s 1s/step - loss: 0.2780 - accuracy: 0.9038 - val_loss: 0.3942 - val_accuracy: 0.8846\n",
            "Epoch 102/200\n",
            "15/15 [==============================] - 22s 1s/step - loss: 0.3059 - accuracy: 0.9017 - val_loss: 0.4480 - val_accuracy: 0.8718\n",
            "Epoch 103/200\n",
            "15/15 [==============================] - 20s 1s/step - loss: 0.2768 - accuracy: 0.9113 - val_loss: 0.3523 - val_accuracy: 0.8632\n",
            "Epoch 104/200\n",
            "15/15 [==============================] - 21s 1s/step - loss: 0.2664 - accuracy: 0.9092 - val_loss: 0.3713 - val_accuracy: 0.8803\n",
            "Epoch 105/200\n",
            "15/15 [==============================] - 24s 2s/step - loss: 0.2437 - accuracy: 0.9156 - val_loss: 0.5119 - val_accuracy: 0.8547\n",
            "Epoch 106/200\n",
            "15/15 [==============================] - 23s 2s/step - loss: 0.1907 - accuracy: 0.9306 - val_loss: 0.4085 - val_accuracy: 0.8675\n",
            "Epoch 107/200\n",
            "15/15 [==============================] - 23s 2s/step - loss: 0.2167 - accuracy: 0.9380 - val_loss: 0.4201 - val_accuracy: 0.8504\n",
            "Epoch 108/200\n",
            "15/15 [==============================] - 23s 2s/step - loss: 0.2221 - accuracy: 0.9263 - val_loss: 0.4713 - val_accuracy: 0.8376\n",
            "Epoch 109/200\n",
            "15/15 [==============================] - 21s 1s/step - loss: 0.2374 - accuracy: 0.9252 - val_loss: 0.6092 - val_accuracy: 0.8205\n",
            "Epoch 110/200\n",
            "15/15 [==============================] - 22s 1s/step - loss: 0.1966 - accuracy: 0.9327 - val_loss: 0.5276 - val_accuracy: 0.8162\n",
            "Epoch 111/200\n",
            "15/15 [==============================] - 23s 2s/step - loss: 0.2266 - accuracy: 0.9263 - val_loss: 0.5527 - val_accuracy: 0.8590\n",
            "Epoch 112/200\n",
            "15/15 [==============================] - 20s 1s/step - loss: 0.3050 - accuracy: 0.9028 - val_loss: 0.4833 - val_accuracy: 0.8205\n",
            "Epoch 113/200\n",
            "15/15 [==============================] - 23s 2s/step - loss: 0.2471 - accuracy: 0.9156 - val_loss: 0.3174 - val_accuracy: 0.8846\n",
            "Epoch 114/200\n",
            "15/15 [==============================] - 23s 2s/step - loss: 0.2256 - accuracy: 0.9306 - val_loss: 0.3316 - val_accuracy: 0.8803\n",
            "Epoch 115/200\n",
            "15/15 [==============================] - 21s 1s/step - loss: 0.1893 - accuracy: 0.9316 - val_loss: 0.4030 - val_accuracy: 0.8718\n",
            "Epoch 116/200\n",
            "15/15 [==============================] - 23s 2s/step - loss: 0.1889 - accuracy: 0.9444 - val_loss: 0.6269 - val_accuracy: 0.8205\n",
            "Epoch 117/200\n",
            "15/15 [==============================] - 20s 1s/step - loss: 0.2348 - accuracy: 0.9167 - val_loss: 0.4794 - val_accuracy: 0.8419\n",
            "Epoch 118/200\n",
            "15/15 [==============================] - 22s 1s/step - loss: 0.2094 - accuracy: 0.9348 - val_loss: 0.4693 - val_accuracy: 0.8632\n",
            "Epoch 119/200\n",
            "15/15 [==============================] - 21s 1s/step - loss: 0.2071 - accuracy: 0.9263 - val_loss: 0.3923 - val_accuracy: 0.8632\n",
            "Epoch 120/200\n",
            "15/15 [==============================] - 22s 1s/step - loss: 0.1675 - accuracy: 0.9434 - val_loss: 0.3715 - val_accuracy: 0.8803\n",
            "Epoch 121/200\n",
            "15/15 [==============================] - 21s 1s/step - loss: 0.2078 - accuracy: 0.9295 - val_loss: 0.3504 - val_accuracy: 0.8974\n",
            "Epoch 122/200\n",
            "15/15 [==============================] - 23s 1s/step - loss: 0.1906 - accuracy: 0.9380 - val_loss: 0.4120 - val_accuracy: 0.8504\n",
            "Epoch 123/200\n",
            "15/15 [==============================] - 20s 1s/step - loss: 0.1627 - accuracy: 0.9455 - val_loss: 0.4299 - val_accuracy: 0.8718\n",
            "Epoch 124/200\n",
            "15/15 [==============================] - 20s 1s/step - loss: 0.1795 - accuracy: 0.9348 - val_loss: 0.3927 - val_accuracy: 0.8761\n",
            "Epoch 125/200\n",
            "15/15 [==============================] - 22s 1s/step - loss: 0.2316 - accuracy: 0.9316 - val_loss: 0.4339 - val_accuracy: 0.8718\n",
            "Epoch 126/200\n",
            "15/15 [==============================] - 23s 2s/step - loss: 0.1740 - accuracy: 0.9391 - val_loss: 0.3916 - val_accuracy: 0.8932\n",
            "Epoch 127/200\n",
            "15/15 [==============================] - 20s 1s/step - loss: 0.2012 - accuracy: 0.9338 - val_loss: 0.3677 - val_accuracy: 0.8761\n",
            "Epoch 128/200\n",
            "15/15 [==============================] - 22s 1s/step - loss: 0.1730 - accuracy: 0.9380 - val_loss: 0.5038 - val_accuracy: 0.8547\n",
            "Epoch 129/200\n",
            "15/15 [==============================] - 20s 1s/step - loss: 0.1591 - accuracy: 0.9466 - val_loss: 0.4340 - val_accuracy: 0.8462\n",
            "Epoch 130/200\n",
            "15/15 [==============================] - 21s 1s/step - loss: 0.1640 - accuracy: 0.9498 - val_loss: 0.3471 - val_accuracy: 0.8675\n",
            "Epoch 131/200\n",
            "15/15 [==============================] - 21s 1s/step - loss: 0.1669 - accuracy: 0.9476 - val_loss: 0.4667 - val_accuracy: 0.8632\n",
            "Epoch 132/200\n",
            "15/15 [==============================] - 21s 1s/step - loss: 0.2091 - accuracy: 0.9338 - val_loss: 0.7689 - val_accuracy: 0.8291\n",
            "Epoch 133/200\n",
            "15/15 [==============================] - 20s 1s/step - loss: 0.2406 - accuracy: 0.9316 - val_loss: 0.5005 - val_accuracy: 0.8547\n",
            "Epoch 134/200\n",
            "15/15 [==============================] - 22s 1s/step - loss: 0.1954 - accuracy: 0.9348 - val_loss: 0.4342 - val_accuracy: 0.8803\n",
            "Epoch 135/200\n",
            "15/15 [==============================] - 23s 2s/step - loss: 0.1872 - accuracy: 0.9434 - val_loss: 0.3516 - val_accuracy: 0.8889\n",
            "Epoch 136/200\n",
            "15/15 [==============================] - 23s 2s/step - loss: 0.1695 - accuracy: 0.9316 - val_loss: 0.4569 - val_accuracy: 0.8761\n",
            "Epoch 137/200\n",
            "15/15 [==============================] - 23s 2s/step - loss: 0.1789 - accuracy: 0.9444 - val_loss: 0.3479 - val_accuracy: 0.9017\n",
            "Epoch 138/200\n",
            "15/15 [==============================] - 20s 1s/step - loss: 0.1934 - accuracy: 0.9284 - val_loss: 0.4475 - val_accuracy: 0.8504\n",
            "Epoch 139/200\n",
            "15/15 [==============================] - 23s 2s/step - loss: 0.2083 - accuracy: 0.9380 - val_loss: 0.4190 - val_accuracy: 0.8632\n",
            "Epoch 140/200\n",
            "15/15 [==============================] - 21s 1s/step - loss: 0.2076 - accuracy: 0.9252 - val_loss: 0.4668 - val_accuracy: 0.8419\n",
            "Epoch 141/200\n",
            "15/15 [==============================] - 21s 1s/step - loss: 0.1948 - accuracy: 0.9391 - val_loss: 0.3838 - val_accuracy: 0.8675\n",
            "Epoch 142/200\n",
            "15/15 [==============================] - 20s 1s/step - loss: 0.1533 - accuracy: 0.9466 - val_loss: 0.4297 - val_accuracy: 0.8547\n",
            "Epoch 143/200\n",
            "15/15 [==============================] - 22s 1s/step - loss: 0.2670 - accuracy: 0.9252 - val_loss: 0.4426 - val_accuracy: 0.8590\n",
            "Epoch 144/200\n",
            "15/15 [==============================] - 24s 2s/step - loss: 0.1826 - accuracy: 0.9380 - val_loss: 0.5472 - val_accuracy: 0.8504\n",
            "Epoch 145/200\n",
            "15/15 [==============================] - 20s 1s/step - loss: 0.1230 - accuracy: 0.9615 - val_loss: 0.3462 - val_accuracy: 0.9103\n",
            "Epoch 146/200\n",
            "15/15 [==============================] - 22s 1s/step - loss: 0.1429 - accuracy: 0.9583 - val_loss: 0.3636 - val_accuracy: 0.8718\n",
            "Epoch 147/200\n",
            "15/15 [==============================] - 24s 2s/step - loss: 0.1400 - accuracy: 0.9615 - val_loss: 0.4100 - val_accuracy: 0.8761\n",
            "Epoch 148/200\n",
            "15/15 [==============================] - 20s 1s/step - loss: 0.1222 - accuracy: 0.9562 - val_loss: 0.4034 - val_accuracy: 0.8761\n",
            "Epoch 149/200\n",
            "15/15 [==============================] - 25s 2s/step - loss: 0.1477 - accuracy: 0.9476 - val_loss: 0.4406 - val_accuracy: 0.8718\n",
            "Epoch 150/200\n",
            "15/15 [==============================] - 24s 2s/step - loss: 0.1206 - accuracy: 0.9583 - val_loss: 0.4359 - val_accuracy: 0.8761\n",
            "Epoch 151/200\n",
            "15/15 [==============================] - 23s 2s/step - loss: 0.1145 - accuracy: 0.9626 - val_loss: 0.4187 - val_accuracy: 0.8761\n",
            "Epoch 152/200\n",
            "15/15 [==============================] - 20s 1s/step - loss: 0.1111 - accuracy: 0.9637 - val_loss: 0.3254 - val_accuracy: 0.9060\n",
            "Epoch 153/200\n",
            "15/15 [==============================] - 23s 2s/step - loss: 0.0798 - accuracy: 0.9765 - val_loss: 0.5209 - val_accuracy: 0.8846\n",
            "Epoch 154/200\n",
            "15/15 [==============================] - 21s 1s/step - loss: 0.1185 - accuracy: 0.9583 - val_loss: 0.3503 - val_accuracy: 0.8803\n",
            "Epoch 155/200\n",
            "15/15 [==============================] - 22s 1s/step - loss: 0.1431 - accuracy: 0.9583 - val_loss: 0.4414 - val_accuracy: 0.8675\n",
            "Epoch 156/200\n",
            "15/15 [==============================] - 22s 1s/step - loss: 0.1310 - accuracy: 0.9605 - val_loss: 0.4627 - val_accuracy: 0.8675\n",
            "Epoch 157/200\n",
            "15/15 [==============================] - 22s 1s/step - loss: 0.1017 - accuracy: 0.9722 - val_loss: 0.3616 - val_accuracy: 0.8846\n",
            "Epoch 158/200\n",
            "15/15 [==============================] - 22s 1s/step - loss: 0.1235 - accuracy: 0.9658 - val_loss: 0.5452 - val_accuracy: 0.8419\n",
            "Epoch 159/200\n",
            "15/15 [==============================] - 20s 1s/step - loss: 0.1451 - accuracy: 0.9487 - val_loss: 0.4261 - val_accuracy: 0.8803\n",
            "Epoch 160/200\n",
            "15/15 [==============================] - 23s 2s/step - loss: 0.2168 - accuracy: 0.9402 - val_loss: 0.2841 - val_accuracy: 0.9145\n",
            "Epoch 161/200\n",
            "15/15 [==============================] - 23s 2s/step - loss: 0.1353 - accuracy: 0.9551 - val_loss: 0.3387 - val_accuracy: 0.8803\n",
            "Epoch 162/200\n",
            "15/15 [==============================] - 23s 2s/step - loss: 0.1590 - accuracy: 0.9498 - val_loss: 0.3296 - val_accuracy: 0.8974\n",
            "Epoch 163/200\n",
            "15/15 [==============================] - 20s 1s/step - loss: 0.1446 - accuracy: 0.9487 - val_loss: 0.2801 - val_accuracy: 0.9145\n",
            "Epoch 164/200\n",
            "15/15 [==============================] - 23s 2s/step - loss: 0.1113 - accuracy: 0.9615 - val_loss: 0.4197 - val_accuracy: 0.9060\n",
            "Epoch 165/200\n",
            "15/15 [==============================] - 23s 2s/step - loss: 0.1291 - accuracy: 0.9626 - val_loss: 0.5290 - val_accuracy: 0.8718\n",
            "Epoch 166/200\n",
            "15/15 [==============================] - 21s 1s/step - loss: 0.2236 - accuracy: 0.9380 - val_loss: 0.3296 - val_accuracy: 0.8761\n",
            "Epoch 167/200\n",
            "15/15 [==============================] - 20s 1s/step - loss: 0.1435 - accuracy: 0.9509 - val_loss: 0.4905 - val_accuracy: 0.8718\n",
            "Epoch 168/200\n",
            "15/15 [==============================] - 22s 1s/step - loss: 0.1482 - accuracy: 0.9498 - val_loss: 0.3908 - val_accuracy: 0.8932\n",
            "Epoch 169/200\n",
            "15/15 [==============================] - 21s 1s/step - loss: 0.1070 - accuracy: 0.9658 - val_loss: 0.2983 - val_accuracy: 0.8846\n",
            "Epoch 170/200\n",
            "15/15 [==============================] - 21s 1s/step - loss: 0.1325 - accuracy: 0.9615 - val_loss: 0.4151 - val_accuracy: 0.9060\n",
            "Epoch 171/200\n",
            "15/15 [==============================] - 23s 2s/step - loss: 0.1094 - accuracy: 0.9647 - val_loss: 0.2312 - val_accuracy: 0.9188\n",
            "Epoch 172/200\n",
            "15/15 [==============================] - 20s 1s/step - loss: 0.0984 - accuracy: 0.9722 - val_loss: 0.2721 - val_accuracy: 0.9231\n",
            "Epoch 173/200\n",
            "15/15 [==============================] - 21s 1s/step - loss: 0.1157 - accuracy: 0.9679 - val_loss: 0.3663 - val_accuracy: 0.8974\n",
            "Epoch 174/200\n",
            "15/15 [==============================] - 23s 2s/step - loss: 0.1125 - accuracy: 0.9626 - val_loss: 0.3903 - val_accuracy: 0.8889\n",
            "Epoch 175/200\n",
            "15/15 [==============================] - 23s 2s/step - loss: 0.1182 - accuracy: 0.9637 - val_loss: 0.3844 - val_accuracy: 0.8675\n",
            "Epoch 176/200\n",
            "15/15 [==============================] - 20s 1s/step - loss: 0.1151 - accuracy: 0.9669 - val_loss: 0.3223 - val_accuracy: 0.9231\n",
            "Epoch 177/200\n",
            "15/15 [==============================] - 23s 2s/step - loss: 0.1158 - accuracy: 0.9637 - val_loss: 0.6197 - val_accuracy: 0.8547\n",
            "Epoch 178/200\n",
            "15/15 [==============================] - 21s 1s/step - loss: 0.1483 - accuracy: 0.9594 - val_loss: 0.2967 - val_accuracy: 0.9060\n",
            "Epoch 179/200\n",
            "15/15 [==============================] - 20s 1s/step - loss: 0.1276 - accuracy: 0.9679 - val_loss: 0.3931 - val_accuracy: 0.8803\n",
            "Epoch 180/200\n",
            "15/15 [==============================] - 23s 2s/step - loss: 0.2189 - accuracy: 0.9348 - val_loss: 0.4876 - val_accuracy: 0.8675\n",
            "Epoch 181/200\n",
            "15/15 [==============================] - 23s 2s/step - loss: 0.1661 - accuracy: 0.9476 - val_loss: 0.3615 - val_accuracy: 0.8889\n",
            "Epoch 182/200\n",
            "15/15 [==============================] - 20s 1s/step - loss: 0.1325 - accuracy: 0.9669 - val_loss: 0.4609 - val_accuracy: 0.8846\n",
            "Epoch 183/200\n",
            "15/15 [==============================] - 21s 1s/step - loss: 0.1107 - accuracy: 0.9647 - val_loss: 0.3587 - val_accuracy: 0.9060\n",
            "Epoch 184/200\n",
            "15/15 [==============================] - 21s 1s/step - loss: 0.1413 - accuracy: 0.9541 - val_loss: 0.5487 - val_accuracy: 0.8547\n",
            "Epoch 185/200\n",
            "15/15 [==============================] - 21s 1s/step - loss: 0.2086 - accuracy: 0.9391 - val_loss: 0.5038 - val_accuracy: 0.8632\n",
            "Epoch 186/200\n",
            "15/15 [==============================] - 21s 1s/step - loss: 0.1270 - accuracy: 0.9562 - val_loss: 0.3749 - val_accuracy: 0.8889\n",
            "Epoch 187/200\n",
            "15/15 [==============================] - 23s 2s/step - loss: 0.1313 - accuracy: 0.9690 - val_loss: 0.3925 - val_accuracy: 0.9145\n",
            "Epoch 188/200\n",
            "15/15 [==============================] - 20s 1s/step - loss: 0.0982 - accuracy: 0.9712 - val_loss: 0.3092 - val_accuracy: 0.8974\n",
            "Epoch 189/200\n",
            "15/15 [==============================] - 23s 2s/step - loss: 0.1160 - accuracy: 0.9615 - val_loss: 0.4145 - val_accuracy: 0.8932\n",
            "Epoch 190/200\n",
            "15/15 [==============================] - 21s 1s/step - loss: 0.1138 - accuracy: 0.9722 - val_loss: 0.3838 - val_accuracy: 0.8675\n",
            "Epoch 191/200\n",
            "15/15 [==============================] - 20s 1s/step - loss: 0.1598 - accuracy: 0.9444 - val_loss: 0.4607 - val_accuracy: 0.8718\n",
            "Epoch 192/200\n",
            "15/15 [==============================] - 24s 2s/step - loss: 0.1267 - accuracy: 0.9583 - val_loss: 0.4416 - val_accuracy: 0.8846\n",
            "Epoch 193/200\n",
            "15/15 [==============================] - 21s 1s/step - loss: 0.1359 - accuracy: 0.9509 - val_loss: 0.3886 - val_accuracy: 0.8803\n",
            "Epoch 194/200\n",
            "15/15 [==============================] - 24s 2s/step - loss: 0.2291 - accuracy: 0.9295 - val_loss: 0.5010 - val_accuracy: 0.8803\n",
            "Epoch 195/200\n",
            "15/15 [==============================] - 23s 2s/step - loss: 0.2852 - accuracy: 0.9071 - val_loss: 0.4428 - val_accuracy: 0.8761\n",
            "Epoch 196/200\n",
            "15/15 [==============================] - 23s 2s/step - loss: 0.1420 - accuracy: 0.9551 - val_loss: 0.3482 - val_accuracy: 0.8889\n",
            "Epoch 197/200\n",
            "15/15 [==============================] - 21s 1s/step - loss: 0.1133 - accuracy: 0.9669 - val_loss: 0.4006 - val_accuracy: 0.8889\n",
            "Epoch 198/200\n",
            "15/15 [==============================] - 23s 2s/step - loss: 0.1438 - accuracy: 0.9541 - val_loss: 0.2669 - val_accuracy: 0.9231\n",
            "Epoch 199/200\n",
            "15/15 [==============================] - 23s 2s/step - loss: 0.1248 - accuracy: 0.9615 - val_loss: 0.5047 - val_accuracy: 0.8632\n",
            "Epoch 200/200\n",
            "15/15 [==============================] - 20s 1s/step - loss: 0.0956 - accuracy: 0.9722 - val_loss: 0.3434 - val_accuracy: 0.8889\n"
          ]
        }
      ]
    },
    {
      "cell_type": "code",
      "source": [
        "test_loss, test_acc = model.evaluate(x_test, y_test)\n",
        "print(\"Accuracy:\", test_acc)\n",
        "print('Loss:', test_loss)"
      ],
      "metadata": {
        "colab": {
          "base_uri": "https://localhost:8080/"
        },
        "id": "Wtu6uksGl3Mj",
        "outputId": "0d30bb89-2ba8-4aba-b252-53b9c8fcd202"
      },
      "execution_count": null,
      "outputs": [
        {
          "output_type": "stream",
          "name": "stdout",
          "text": [
            "8/8 [==============================] - 2s 216ms/step - loss: 37.7859 - accuracy: 0.9231\n",
            "Accuracy: 0.9230769276618958\n",
            "Loss: 37.78589630126953\n"
          ]
        }
      ]
    },
    {
      "cell_type": "code",
      "source": [
        "accuracy = train.history['accuracy']\n",
        "loss = train.history['loss']\n",
        "epochs = range(len(accuracy))\n",
        "plt.plot(epochs, accuracy, 'bo', label = 'Training accuracy')\n",
        "plt.plot(epochs, loss, 'b', label = 'Traning loss')\n",
        "plt.show()"
      ],
      "metadata": {
        "colab": {
          "base_uri": "https://localhost:8080/",
          "height": 430
        },
        "id": "CfCxsXpwl48j",
        "outputId": "11b52f55-2e36-4277-8d4a-65c7ef5b0986"
      },
      "execution_count": null,
      "outputs": [
        {
          "output_type": "display_data",
          "data": {
            "text/plain": [
              "<Figure size 640x480 with 1 Axes>"
            ],
            "image/png": "[encoded data removed]"
          },
          "metadata": {}
        }
      ]
    },
    {
      "cell_type": "code",
      "source": [
        "#Save model\n",
        "model.save('/content/drive/MyDrive/Colab Notebooks/FLOWER/MODEL_INCEPTION.h5')"
      ],
      "metadata": {
        "id": "cSLb0JqDl7lt"
      },
      "execution_count": null,
      "outputs": []
    }
  ]
}